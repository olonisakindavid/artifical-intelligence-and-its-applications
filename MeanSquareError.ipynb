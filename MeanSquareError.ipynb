{
 "cells": [
  {
   "cell_type": "code",
   "execution_count": 10,
   "id": "6caa3736-6d0f-4a40-87df-efe53c6deb74",
   "metadata": {},
   "outputs": [
    {
     "name": "stdout",
     "output_type": "stream",
     "text": [
      "[-0.4, -0.7, -0.3, -0.5, -0.7, -0.19999999999999996, 0.19999999999999996, 0.9, 0.6, 0.4, 0.19999999999999996, 0.8, -0.10000000000000009, 1.1, 0.0]\n",
      "[0.16000000000000003, 0.48999999999999994, 0.09, 0.25, 0.48999999999999994, 0.03999999999999998, 0.03999999999999998, 0.81, 0.36, 0.16000000000000003, 0.03999999999999998, 0.6400000000000001, 0.010000000000000018, 1.2100000000000002, 0.0]\n",
      "4.79\n",
      "0.31933333333333336\n",
      "0.5650958620741559\n"
     ]
    }
   ],
   "source": [
    "# Calculating the Mean Square Error\n",
    "y_actual = [0,0,0,0,0,1,1,1,1,1,2,2,2,2,2]\n",
    "y_predicted = [0.4, 0.7, 0.3, 0.5 ,0.7, 1.2, 0.8, 0.1, 0.4, 0.6, 1.8 ,1.2, 2.1, 0.9, 2.0]\n",
    "\n",
    "yminus_y = []\n",
    "for i in range(15):\n",
    "    yminus_y.append(y_actual[i] - y_predicted[i])\n",
    "print(yminus_y)\n",
    "\n",
    "yminus_y_sqr = []\n",
    "for i in yminus_y:\n",
    "    yminus_y_sqr.append(i*i)\n",
    "print(yminus_y_sqr)\n",
    "\n",
    "import numpy as np\n",
    "_sum = np.sum(yminus_y_sqr)\n",
    "print(_sum)\n",
    "\n",
    "mse = _sum/15\n",
    "print(mse)\n",
    "\n",
    "import math\n",
    "\n",
    "rmse = math.sqrt(mse)\n",
    "print(rmse)"
   ]
  },
  {
   "cell_type": "code",
   "execution_count": 7,
   "id": "bff9a551-0d96-455e-a61e-2715871fd183",
   "metadata": {},
   "outputs": [
    {
     "name": "stdout",
     "output_type": "stream",
     "text": [
      "The Mean Absolute Error is -  2.0\n",
      "\n",
      "The Mean Square Error is -  5.0\n",
      "\n",
      "The Categorical Cross Entropy Loss is -  0.2876821\n",
      "\n",
      "The Sparse Categorical Cross Entropy Loss is -  0.28768212\n"
     ]
    }
   ],
   "source": [
    "# Example to illustrate the use of MAE, MSE and Cross Entropy with TensorFlow\n",
    "#Import the required libraries\n",
    "import tensorflow as tf\n",
    "import numpy as np\n",
    "from tensorflow.keras.losses import MeanAbsoluteError\n",
    "from tensorflow.keras.losses import MeanSquaredError\n",
    "from tensorflow.keras.losses import CategoricalCrossentropy\n",
    "from tensorflow.keras.losses import SparseCategoricalCrossentropy  \n",
    "##Define y_true and y_pred for a regression task\n",
    "y_true = [1., 0.]\n",
    "y_pred = [2., 3.]\n",
    "#Compute and Print the MAE\n",
    "mae_loss = MeanAbsoluteError()\n",
    "print(\"The Mean Absolute Error is - \",mae_loss(y_true, y_pred).numpy())\n",
    "#Compute and Print the MSE\n",
    "mse_loss = MeanSquaredError()\n",
    "print(\"\")\n",
    "print(\"The Mean Square Error is - \",mse_loss(y_true, y_pred).numpy())\n",
    "##Define y_true and y_pred for a classification task\n",
    "#Use one hot vector representation\n",
    "y_true = [[0, 1, 0], [1, 0, 0]]\n",
    "y_pred = [[0.15, 0.75, 0.1], [0.75, 0.15, 0.1]]\n",
    "#Compute and print the categorical-cross-entropy-loss\n",
    "cross_entropy_loss = CategoricalCrossentropy()\n",
    "print(\"\")\n",
    "print(\"The Categorical Cross Entropy Loss is - \",cross_entropy_loss(y_true, y_pred).numpy())\n",
    "#Use label-encoded representation for the class\n",
    "y_true = [1, 0]\n",
    "y_pred = [[0.15, 0.75, 0.1], [0.75, 0.15, 0.1]]\n",
    "#Compute and print the sparse-cross-entropy-loss\n",
    "cross_entropy_loss = SparseCategoricalCrossentropy()\n",
    "print(\"\")\n",
    "print(\"The Sparse Categorical Cross Entropy Loss is - \" ,cross_entropy_loss(y_true, y_pred).numpy())"
   ]
  },
  {
   "cell_type": "code",
   "execution_count": null,
   "id": "6ed270d6-5f66-459b-8baa-26c2ac977134",
   "metadata": {},
   "outputs": [],
   "source": []
  }
 ],
 "metadata": {
  "kernelspec": {
   "display_name": "Python 3 (ipykernel)",
   "language": "python",
   "name": "python3"
  },
  "language_info": {
   "codemirror_mode": {
    "name": "ipython",
    "version": 3
   },
   "file_extension": ".py",
   "mimetype": "text/x-python",
   "name": "python",
   "nbconvert_exporter": "python",
   "pygments_lexer": "ipython3",
   "version": "3.10.9"
  }
 },
 "nbformat": 4,
 "nbformat_minor": 5
}
