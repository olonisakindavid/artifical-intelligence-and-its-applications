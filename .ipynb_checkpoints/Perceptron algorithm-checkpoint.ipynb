{
 "cells": [
  {
   "cell_type": "code",
   "execution_count": 2,
   "id": "4a9d642c",
   "metadata": {},
   "outputs": [
    {
     "name": "stdout",
     "output_type": "stream",
     "text": [
      "Accurcacy: 1.0\n",
      "Perceptron Confusion Matrix:\n",
      " [[12  0]\n",
      " [ 0  8]]\n",
      "    irisType\n",
      "83         1\n",
      "53         1\n",
      "70         1\n",
      "45         0\n",
      "44         0\n",
      "39         0\n",
      "22         0\n",
      "80         1\n",
      "10         0\n",
      "0          0\n",
      "18         0\n",
      "30         0\n",
      "73         1\n",
      "33         0\n",
      "90         1\n",
      "4          0\n",
      "76         1\n",
      "77         1\n",
      "12         0\n",
      "31         0\n",
      "[1 1 1 0 0 0 0 1 0 0 0 0 1 0 1 0 1 1 0 0]\n"
     ]
    },
    {
     "name": "stderr",
     "output_type": "stream",
     "text": [
      "C:\\Users\\Pavilion\\anaconda3\\lib\\site-packages\\sklearn\\utils\\validation.py:1143: DataConversionWarning: A column-vector y was passed when a 1d array was expected. Please change the shape of y to (n_samples, ), for example using ravel().\n",
      "  y = column_or_1d(y, warn=True)\n"
     ]
    }
   ],
   "source": [
    "#18th may 2023, Artificial Neural Networks Practical\n",
    "\n",
    "import numpy\n",
    "import matplotlib.pyplot as plt\n",
    "import pandas as pd\n",
    "from sklearn.datasets import load_iris\n",
    "from sklearn.linear_model import Perceptron\n",
    "from sklearn.model_selection import train_test_split\n",
    "from sklearn.metrics import accuracy_score\n",
    "from sklearn.metrics import confusion_matrix\n",
    "\n",
    "iris= load_iris()\n",
    "iris.keys()\n",
    "iris.target_names\n",
    "x = pd.DataFrame(data = iris.data[:100,:], columns = iris.feature_names)\n",
    "x.head(100)\n",
    "y = pd.DataFrame(data= iris.target[:100], columns = ['irisType'])\n",
    "y.head(100)\n",
    "x_train, x_test, y_train, y_test = train_test_split(x,y,test_size = 0.2, random_state =42)\n",
    "\n",
    "#display(x)\n",
    "#display(y)\n",
    "#display(x_train)\n",
    "\n",
    "mdPercept = Perceptron()\n",
    "mdPercept.fit(x_train, y_train)\n",
    "y_pred = mdPercept.predict(x_test)\n",
    "accuracy = accuracy_score(y_test, y_pred)\n",
    "print(\"Accurcacy:\", accuracy)\n",
    "print(\"Perceptron Confusion Matrix:\\n\", confusion_matrix(y_test,y_pred))\n",
    "print(y_test)\n",
    "print(y_pred)"
   ]
  },
  {
   "cell_type": "code",
   "execution_count": null,
   "id": "32596037",
   "metadata": {},
   "outputs": [],
   "source": []
  }
 ],
 "metadata": {
  "kernelspec": {
   "display_name": "Python 3 (ipykernel)",
   "language": "python",
   "name": "python3"
  },
  "language_info": {
   "codemirror_mode": {
    "name": "ipython",
    "version": 3
   },
   "file_extension": ".py",
   "mimetype": "text/x-python",
   "name": "python",
   "nbconvert_exporter": "python",
   "pygments_lexer": "ipython3",
   "version": "3.10.9"
  }
 },
 "nbformat": 4,
 "nbformat_minor": 5
}
